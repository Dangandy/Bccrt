{
  "nbformat": 4,
  "nbformat_minor": 0,
  "metadata": {
    "colab": {
      "provenance": [],
      "toc_visible": true,
      "include_colab_link": true
    },
    "kernelspec": {
      "name": "python3",
      "display_name": "Python 3"
    },
    "language_info": {
      "name": "python"
    }
  },
  "cells": [
    {
      "cell_type": "markdown",
      "metadata": {
        "id": "view-in-github",
        "colab_type": "text"
      },
      "source": [
        "<a href=\"https://colab.research.google.com/github/Dangandy/Bccrt/blob/main/Baccarat_Odds.ipynb\" target=\"_parent\"><img src=\"https://colab.research.google.com/assets/colab-badge.svg\" alt=\"Open In Colab\"/></a>"
      ]
    },
    {
      "cell_type": "markdown",
      "source": [
        "# Anti Martingale Backtest Data\n",
        "\n",
        "This accounts for banker only, and no commission"
      ],
      "metadata": {
        "id": "-4gAzegjHe4m"
      }
    },
    {
      "cell_type": "code",
      "source": [
        "import numpy as np\n"
      ],
      "metadata": {
        "id": "ut8y_KRZbkvx"
      },
      "execution_count": null,
      "outputs": []
    },
    {
      "cell_type": "code",
      "source": [
        "def simulate_baccarat_strategy_check_gain(initial_bankroll, target_gain, hands, bet_amount, win_prob, iterations=100000, number_of_bets=2):\n",
        "    target_bankroll = initial_bankroll + target_gain\n",
        "    success_count = 0\n",
        "    average_profit = 0\n",
        "\n",
        "    for _ in range(iterations):\n",
        "        bankroll = initial_bankroll\n",
        "        for i in range(hands):\n",
        "            # First bet\n",
        "            if bankroll >= target_bankroll:\n",
        "                success_count += 1\n",
        "                average_profit += bankroll\n",
        "                break\n",
        "\n",
        "            if np.random.rand() < win_prob:\n",
        "                bankroll += bet_amount\n",
        "\n",
        "\n",
        "                # if we win on first bet..\n",
        "                if bankroll >= target_bankroll:\n",
        "                    success_count += 1\n",
        "                    average_profit += bankroll\n",
        "                    break\n",
        "\n",
        "                # Second bet\n",
        "                if number_of_bets >= 2:\n",
        "                    if np.random.rand() < win_prob:\n",
        "                        bankroll += 2 * bet_amount\n",
        "\n",
        "                        if number_of_bets >= 3:\n",
        "                            if np.random.rand() < win_prob:\n",
        "                                bankroll += 4 * bet_amount\n",
        "\n",
        "                                # always stop when we hit 3 wins in a row\n",
        "                                if number_of_bets == 3:\n",
        "                                    success_count += 1\n",
        "                                    average_profit += bankroll\n",
        "                                    break\n",
        "\n",
        "                                if number_of_bets >= 4:\n",
        "                                    if np.random.rand() < win_prob:\n",
        "                                        bankroll += 8 * bet_amount\n",
        "\n",
        "                                        if number_of_bets == 4:\n",
        "                                            success_count += 1\n",
        "                                            average_profit += bankroll\n",
        "                                            break\n",
        "                                    else:\n",
        "                                        bankroll -= 8 * bet_amount\n",
        "\n",
        "                            else:\n",
        "                                bankroll -= 4 * bet_amount\n",
        "                    else:\n",
        "                        bankroll -= 2 * bet_amount\n",
        "            else:\n",
        "                bankroll -= bet_amount\n",
        "\n",
        "            if bankroll > 0 and i == hands-1:\n",
        "                success_count += 1\n",
        "                average_profit += bankroll\n",
        "                break\n",
        "\n",
        "            if iterations == 1:\n",
        "                print(f'\\tbankroll after each hand: {bankroll}')\n",
        "\n",
        "\n",
        "    return success_count / iterations, average_profit / max(success_count, 1)"
      ],
      "metadata": {
        "id": "SrUNEMIpggyz"
      },
      "execution_count": null,
      "outputs": []
    },
    {
      "cell_type": "markdown",
      "source": [
        "# No Martingale\n",
        "\n",
        "With no martingale, we have a 52% chance of coming out positive if we have a Target Profit (TP) of 100, and we only play 4 hands"
      ],
      "metadata": {
        "id": "DH1rd70da_Qt"
      }
    },
    {
      "cell_type": "code",
      "source": [
        "# Parameters\n",
        "initial_bankroll = 400\n",
        "target_gain = 100\n",
        "hands = 4\n",
        "bet_amount = 100\n",
        "win_prob = 0.5068\n",
        "\n",
        "# Run the simulation\n",
        "probability = simulate_baccarat_strategy_check_gain(initial_bankroll, target_gain, hands, bet_amount, win_prob, number_of_bets=1)\n",
        "probability\n"
      ],
      "metadata": {
        "colab": {
          "base_uri": "https://localhost:8080/"
        },
        "id": "d-Xr_rMkbBQ_",
        "outputId": "d6840f33-f897-41fd-a30d-6bb918d21970"
      },
      "execution_count": null,
      "outputs": [
        {
          "output_type": "execute_result",
          "data": {
            "text/plain": [
              "(0.94097, 428.1294834054221)"
            ]
          },
          "metadata": {},
          "execution_count": 146
        }
      ]
    },
    {
      "cell_type": "markdown",
      "source": [
        "# Anti Martingale: Level 2\n",
        "\n",
        "When we reset our bet to 100 after 2 wins, we have 75% chance of leaving with money"
      ],
      "metadata": {
        "id": "T15CaA3JgTLC"
      }
    },
    {
      "cell_type": "code",
      "source": [
        "# Parameters\n",
        "initial_bankroll = 400\n",
        "target_gain = 100\n",
        "hands = 4\n",
        "bet_amount = 100\n",
        "win_prob = 0.5068\n",
        "\n",
        "# Run the simulation\n",
        "probability = simulate_baccarat_strategy_check_gain(initial_bankroll, target_gain, hands, bet_amount, win_prob)\n",
        "print('initial bankroll of 400, TP: 100 (25%)')\n",
        "print('with 4 hands',probability)\n",
        "\n",
        "hands = 8\n",
        "probability = simulate_baccarat_strategy_check_gain(initial_bankroll, target_gain, hands, bet_amount, win_prob)\n",
        "print('with 8 hands',probability)\n",
        "\n",
        "hands = 12\n",
        "probability = simulate_baccarat_strategy_check_gain(initial_bankroll, target_gain, hands, bet_amount, win_prob)\n",
        "print('with 12 hands',probability)\n",
        "\n",
        "hands = 16\n",
        "probability = simulate_baccarat_strategy_check_gain(initial_bankroll, target_gain, hands, bet_amount, win_prob)\n",
        "print('with 16 hands',probability)"
      ],
      "metadata": {
        "colab": {
          "base_uri": "https://localhost:8080/"
        },
        "id": "NXVeq4mqfZSa",
        "outputId": "88671935-4d63-4950-d416-ba6c15d68f45"
      },
      "execution_count": null,
      "outputs": [
        {
          "output_type": "stream",
          "name": "stdout",
          "text": [
            "initial bankroll of 400, TP: 100 (25%)\n",
            "with 4 hands (0.79956, 507.0989043974186)\n",
            "with 8 hands (0.83894, 514.9641213912795)\n",
            "with 12 hands (0.86483, 516.6472023403444)\n",
            "with 16 hands (0.88002, 517.8291402468126)\n"
          ]
        }
      ]
    },
    {
      "cell_type": "code",
      "source": [
        "print(\n",
        "\"\"\"\n",
        "Initial bankroll of 400, TP: 100 (25%)\n",
        "with 4 hands (0.79844, 507.24036871900205)\n",
        "with 8 hands (0.83867, 514.6756173465129)\n",
        "with 12 hands (0.8638, 516.9553137300301)\n",
        "with 16 hands (0.8793, 517.4525190492437)\n",
        "\n",
        "With a low TP, we have a super high chance of winning\n",
        "\"\"\")"
      ],
      "metadata": {
        "colab": {
          "base_uri": "https://localhost:8080/"
        },
        "id": "Ae1NrAw1mAeN",
        "outputId": "974249d5-a9ab-4a4d-9ae9-d000fdaf1352"
      },
      "execution_count": null,
      "outputs": [
        {
          "output_type": "stream",
          "name": "stdout",
          "text": [
            "\n",
            "Initial bankroll of 400, TP: 100 (25%)\n",
            "with 4 hands (0.79844, 507.24036871900205)\n",
            "with 8 hands (0.83867, 514.6756173465129)\n",
            "with 12 hands (0.8638, 516.9553137300301)\n",
            "with 16 hands (0.8793, 517.4525190492437)\n",
            "\n",
            "With a low TP, we have a super high chance of winning\n",
            "\n"
          ]
        }
      ]
    },
    {
      "cell_type": "code",
      "execution_count": null,
      "metadata": {
        "colab": {
          "base_uri": "https://localhost:8080/"
        },
        "id": "HnU8w8cfb8SL",
        "outputId": "5f15e18b-9907-46a2-a12a-a5c582eb3d41"
      },
      "outputs": [
        {
          "output_type": "stream",
          "name": "stdout",
          "text": [
            "initial bankroll of 400, TP: 200 (50%)\n",
            "with 4 hands (0.69501, 586.3354484108143)\n",
            "with 8 hands (0.72258, 620.0822054305405)\n",
            "with 12 hands (0.75486, 630.0876983811568)\n",
            "with 16 hands (0.78182, 634.8775933079226)\n"
          ]
        }
      ],
      "source": [
        "# Parameters\n",
        "initial_bankroll = 400\n",
        "target_gain = 200\n",
        "hands = 4\n",
        "bet_amount = 100\n",
        "win_prob = 0.5068\n",
        "\n",
        "# Run the simulation\n",
        "probability = simulate_baccarat_strategy_check_gain(initial_bankroll, target_gain, hands, bet_amount, win_prob)\n",
        "print('initial bankroll of 400, TP: 200 (50%)')\n",
        "print('with 4 hands',probability)\n",
        "\n",
        "hands = 8\n",
        "probability = simulate_baccarat_strategy_check_gain(initial_bankroll, target_gain, hands, bet_amount, win_prob)\n",
        "print('with 8 hands',probability)\n",
        "\n",
        "hands = 12\n",
        "probability = simulate_baccarat_strategy_check_gain(initial_bankroll, target_gain, hands, bet_amount, win_prob)\n",
        "print('with 12 hands',probability)\n",
        "\n",
        "hands = 16\n",
        "probability = simulate_baccarat_strategy_check_gain(initial_bankroll, target_gain, hands, bet_amount, win_prob)\n",
        "print('with 16 hands',probability)\n"
      ]
    },
    {
      "cell_type": "code",
      "source": [
        "print(\"\"\"\n",
        "initial bankroll of 400, TP: 200 (50%)\n",
        "with 4 hands (0.69501, 586.3354484108143)\n",
        "with 8 hands (0.72258, 620.0822054305405)\n",
        "with 12 hands (0.75486, 630.0876983811568)\n",
        "with 16 hands (0.78182, 634.8775933079226)\n",
        "\n",
        "The more hands you play, the easier it is to make your money back..\n",
        "\"\"\")"
      ],
      "metadata": {
        "colab": {
          "base_uri": "https://localhost:8080/"
        },
        "id": "g08IZZAIk_7I",
        "outputId": "fa5c40b9-546d-4fd6-90c4-f90a62c6e727"
      },
      "execution_count": null,
      "outputs": [
        {
          "output_type": "stream",
          "name": "stdout",
          "text": [
            "\n",
            "initial bankroll of 400, TP: 200 (50%)\n",
            "with 4 hands (0.69501, 586.3354484108143)\n",
            "with 8 hands (0.72258, 620.0822054305405)\n",
            "with 12 hands (0.75486, 630.0876983811568)\n",
            "with 16 hands (0.78182, 634.8775933079226)\n",
            "\n",
            "The more hands you play, the easier it is to make your money back..\n",
            "\n"
          ]
        }
      ]
    },
    {
      "cell_type": "code",
      "source": [
        "# Parameters\n",
        "initial_bankroll = 800\n",
        "target_gain = 100\n",
        "hands = 4\n",
        "bet_amount = 100\n",
        "win_prob = 0.5068\n",
        "\n",
        "# Run the simulation\n",
        "probability = simulate_baccarat_strategy_check_gain(initial_bankroll, target_gain, hands, bet_amount, win_prob)\n",
        "print('initial bankroll of 800, TP: 100 (25%)')\n",
        "print('with 4 hands',probability)\n",
        "\n",
        "hands = 8\n",
        "probability = simulate_baccarat_strategy_check_gain(initial_bankroll, target_gain, hands, bet_amount, win_prob)\n",
        "print('with 8 hands',probability)\n",
        "\n",
        "hands = 12\n",
        "probability = simulate_baccarat_strategy_check_gain(initial_bankroll, target_gain, hands, bet_amount, win_prob)\n",
        "print('with 12 hands',probability)\n",
        "\n",
        "hands = 16\n",
        "probability = simulate_baccarat_strategy_check_gain(initial_bankroll, target_gain, hands, bet_amount, win_prob)\n",
        "print('with 16 hands',probability)\n"
      ],
      "metadata": {
        "colab": {
          "base_uri": "https://localhost:8080/"
        },
        "id": "cWilbjYOldDV",
        "outputId": "85fc8738-1f06-4c66-9dd0-acfe13e71913"
      },
      "execution_count": null,
      "outputs": [
        {
          "output_type": "stream",
          "name": "stdout",
          "text": [
            "initial bankroll of 800, TP: 100 (25%)\n",
            "with 4 hands (1.0, 803.735)\n",
            "with 8 hands (0.93854, 860.9137596692735)\n",
            "with 12 hands (0.92492, 883.1423258227738)\n",
            "with 16 hands (0.92215, 893.3839397061215)\n"
          ]
        }
      ]
    },
    {
      "cell_type": "code",
      "source": [
        "print(\"\"\"\n",
        "initial bankroll of 800, TP: 100 (25%)\n",
        "with 4 hands (1.0, 803.735)\n",
        "with 8 hands (0.93854, 860.9137596692735)\n",
        "with 12 hands (0.92492, 883.1423258227738)\n",
        "with 16 hands (0.92215, 893.3839397061215)\n",
        "\n",
        "With a higher bankroll, we are guaranteed to never lose money in the long run if we play only 4 hands?\n",
        "\"\"\")"
      ],
      "metadata": {
        "colab": {
          "base_uri": "https://localhost:8080/"
        },
        "id": "Vtn-YjqDlvkX",
        "outputId": "e5979b30-2b59-446e-fed3-11ed793a7823"
      },
      "execution_count": null,
      "outputs": [
        {
          "output_type": "stream",
          "name": "stdout",
          "text": [
            "\n",
            "initial bankroll of 800, TP: 100 (25%)\n",
            "with 4 hands (1.0, 803.735)\n",
            "with 8 hands (0.93854, 860.9137596692735)\n",
            "with 12 hands (0.92492, 883.1423258227738)\n",
            "with 16 hands (0.92215, 893.3839397061215)\n",
            "\n",
            "With a higher bankroll, we are guaranteed to never lose money in the long run if we play only 4 hands?\n",
            "\n"
          ]
        }
      ]
    },
    {
      "cell_type": "code",
      "source": [
        "# Parameters\n",
        "initial_bankroll = 800\n",
        "target_gain = 200\n",
        "hands = 4\n",
        "bet_amount = 100\n",
        "win_prob = 0.5068\n",
        "\n",
        "# Run the simulation\n",
        "probability = simulate_baccarat_strategy_check_gain(initial_bankroll, target_gain, hands, bet_amount, win_prob)\n",
        "print(f'initial bankroll of {initial_bankroll}, TP: {target_gain} ({target_gain/initial_bankroll * 100:.2f}%)')\n",
        "print(f'with {hands} hands',probability)\n",
        "\n",
        "hands = 8\n",
        "probability = simulate_baccarat_strategy_check_gain(initial_bankroll, target_gain, hands, bet_amount, win_prob)\n",
        "print(f'with {hands} hands',probability)\n",
        "\n",
        "hands = 12\n",
        "probability = simulate_baccarat_strategy_check_gain(initial_bankroll, target_gain, hands, bet_amount, win_prob)\n",
        "print(f'with {hands} hands',probability)\n",
        "\n",
        "hands = 16\n",
        "probability = simulate_baccarat_strategy_check_gain(initial_bankroll, target_gain, hands, bet_amount, win_prob)\n",
        "print(f'with {hands} hands',probability)\n"
      ],
      "metadata": {
        "colab": {
          "base_uri": "https://localhost:8080/"
        },
        "id": "cv_b2v0MII85",
        "outputId": "e80b467b-8c93-4868-f73b-9a09b175c55d"
      },
      "execution_count": null,
      "outputs": [
        {
          "output_type": "stream",
          "name": "stdout",
          "text": [
            "initial bankroll of 800, TP: 200 (25.00%)\n",
            "with 4 hands (1.0, 808.1)\n",
            "with 8 hands (0.90641, 895.840734325526)\n",
            "with 12 hands (0.87673, 944.3123880784278)\n",
            "with 16 hands (0.86678, 970.8103555688872)\n"
          ]
        }
      ]
    },
    {
      "cell_type": "code",
      "source": [
        "# Parameters\n",
        "initial_bankroll = 800\n",
        "target_gain = 800\n",
        "hands = 4\n",
        "bet_amount = 100\n",
        "win_prob = 0.5068\n",
        "\n",
        "# Run the simulation\n",
        "probability = simulate_baccarat_strategy_check_gain(initial_bankroll, target_gain, hands, bet_amount, win_prob)\n",
        "print(f'initial bankroll of {initial_bankroll}, TP: {target_gain} ({target_gain/initial_bankroll * 100:.2f}%)')\n",
        "print(f'with {hands} hands',probability)\n",
        "\n",
        "hands = 8\n",
        "probability = simulate_baccarat_strategy_check_gain(initial_bankroll, target_gain, hands, bet_amount, win_prob)\n",
        "print(f'with {hands} hands',probability)\n",
        "\n",
        "hands = 12\n",
        "probability = simulate_baccarat_strategy_check_gain(initial_bankroll, target_gain, hands, bet_amount, win_prob)\n",
        "print(f'with {hands} hands',probability)\n",
        "\n",
        "hands = 16\n",
        "probability = simulate_baccarat_strategy_check_gain(initial_bankroll, target_gain, hands, bet_amount, win_prob)\n",
        "print(f'with {hands} hands',probability)\n",
        "\n",
        "hands = 20\n",
        "probability = simulate_baccarat_strategy_check_gain(initial_bankroll, target_gain, hands, bet_amount, win_prob)\n",
        "print(f'with {hands} hands',probability)\n",
        "\n",
        "hands = 24\n",
        "probability = simulate_baccarat_strategy_check_gain(initial_bankroll, target_gain, hands, bet_amount, win_prob)\n",
        "print(f'with {hands} hands',probability)\n",
        "\n",
        "hands = 28\n",
        "probability = simulate_baccarat_strategy_check_gain(initial_bankroll, target_gain, hands, bet_amount, win_prob)\n",
        "print(f'with {hands} hands',probability)\n",
        "\n",
        "hands = 32\n",
        "probability = simulate_baccarat_strategy_check_gain(initial_bankroll, target_gain, hands, bet_amount, win_prob)\n",
        "print(f'with {hands} hands',probability)\n",
        "\n",
        "hands = 36\n",
        "probability = simulate_baccarat_strategy_check_gain(initial_bankroll, target_gain, hands, bet_amount, win_prob)\n",
        "print(f'with {hands} hands',probability)\n",
        "\n",
        "hands = 40\n",
        "probability = simulate_baccarat_strategy_check_gain(initial_bankroll, target_gain, hands, bet_amount, win_prob)\n",
        "print(f'with {hands} hands',probability)\n"
      ],
      "metadata": {
        "colab": {
          "base_uri": "https://localhost:8080/"
        },
        "id": "8HL4CuIXJM9s",
        "outputId": "d93b5a5e-3409-41b8-9eb9-8e5082049cb5"
      },
      "execution_count": null,
      "outputs": [
        {
          "output_type": "stream",
          "name": "stdout",
          "text": [
            "initial bankroll of 800, TP: 800 (100.00%)\n",
            "with 4 hands (1.0, 811.485)\n",
            "with 8 hands (0.90653, 904.7830739192304)\n",
            "with 12 hands (0.85288, 983.7468342556983)\n",
            "with 16 hands (0.82138, 1054.4145219021646)\n",
            "with 20 hands (0.79333, 1117.2084756658642)\n",
            "with 24 hands (0.77947, 1167.2495413550232)\n",
            "with 28 hands (0.76759, 1215.2047316927005)\n",
            "with 32 hands (0.75871, 1253.4196201447194)\n",
            "with 36 hands (0.75297, 1289.5427440668286)\n",
            "with 40 hands (0.75048, 1319.0664641296237)\n"
          ]
        }
      ]
    },
    {
      "cell_type": "code",
      "source": [
        "print(\"\"\"\n",
        "Using this strategy, what are the chances of us leaving with money after 40 hands?\n",
        "\n",
        "initial bankroll of 800, TP: 800 (100.00%)\n",
        "with 4 hands (1.0, 811.485)\n",
        "with 8 hands (0.90653, 904.7830739192304)\n",
        "with 12 hands (0.85288, 983.7468342556983)\n",
        "with 16 hands (0.82138, 1054.4145219021646)\n",
        "with 20 hands (0.79333, 1117.2084756658642)\n",
        "with 24 hands (0.77947, 1167.2495413550232)\n",
        "with 28 hands (0.76759, 1215.2047316927005)\n",
        "with 32 hands (0.75871, 1253.4196201447194)\n",
        "with 36 hands (0.75297, 1289.5427440668286)\n",
        "with 40 hands (0.75048, 1319.0664641296237)\n",
        "\n",
        "From this data, it looks like its best to stop at 1200 as it will take 12 more hands to get the next 1300\n",
        "\"\"\")\n"
      ],
      "metadata": {
        "colab": {
          "base_uri": "https://localhost:8080/"
        },
        "id": "bTcp_vDbJaXo",
        "outputId": "da3d3587-e31a-4ca8-e30f-5c10f0865b00"
      },
      "execution_count": null,
      "outputs": [
        {
          "output_type": "stream",
          "name": "stdout",
          "text": [
            "\n",
            "Using this strategy, what are the chances of us leaving with money after 40 hands?\n",
            "\n",
            "initial bankroll of 800, TP: 800 (100.00%)\n",
            "with 4 hands (1.0, 811.485)\n",
            "with 8 hands (0.90653, 904.7830739192304)\n",
            "with 12 hands (0.85288, 983.7468342556983)\n",
            "with 16 hands (0.82138, 1054.4145219021646)\n",
            "with 20 hands (0.79333, 1117.2084756658642)\n",
            "with 24 hands (0.77947, 1167.2495413550232)\n",
            "with 28 hands (0.76759, 1215.2047316927005)\n",
            "with 32 hands (0.75871, 1253.4196201447194)\n",
            "with 36 hands (0.75297, 1289.5427440668286)\n",
            "with 40 hands (0.75048, 1319.0664641296237)\n",
            "\n",
            "From this data, it looks like its best to stop at 1200 as it will take 12 more hands to get the next 1300\n",
            "\n"
          ]
        }
      ]
    },
    {
      "cell_type": "code",
      "source": [
        "# Parameters\n",
        "initial_bankroll = 800\n",
        "target_gain = 400\n",
        "hands = 4\n",
        "bet_amount = 100\n",
        "win_prob = 0.5068\n",
        "\n",
        "# Run the simulation\n",
        "probability = simulate_baccarat_strategy_check_gain(initial_bankroll, target_gain, hands, bet_amount, win_prob)\n",
        "print(f'initial bankroll of {initial_bankroll}, TP: {target_gain} ({target_gain/initial_bankroll * 100:.2f}%)')\n",
        "print(f'with {hands} hands',probability)\n",
        "\n",
        "hands = 8\n",
        "probability = simulate_baccarat_strategy_check_gain(initial_bankroll, target_gain, hands, bet_amount, win_prob)\n",
        "print(f'with {hands} hands',probability)\n",
        "\n",
        "hands = 12\n",
        "probability = simulate_baccarat_strategy_check_gain(initial_bankroll, target_gain, hands, bet_amount, win_prob)\n",
        "print(f'with {hands} hands',probability)\n",
        "\n",
        "hands = 16\n",
        "probability = simulate_baccarat_strategy_check_gain(initial_bankroll, target_gain, hands, bet_amount, win_prob)\n",
        "print(f'with {hands} hands',probability)\n",
        "\n",
        "hands = 20\n",
        "probability = simulate_baccarat_strategy_check_gain(initial_bankroll, target_gain, hands, bet_amount, win_prob)\n",
        "print(f'with {hands} hands',probability)\n",
        "\n",
        "hands = 24\n",
        "probability = simulate_baccarat_strategy_check_gain(initial_bankroll, target_gain, hands, bet_amount, win_prob)\n",
        "print(f'with {hands} hands',probability)\n",
        "\n",
        "hands = 28\n",
        "probability = simulate_baccarat_strategy_check_gain(initial_bankroll, target_gain, hands, bet_amount, win_prob)\n",
        "print(f'with {hands} hands',probability)\n",
        "\n",
        "hands = 32\n",
        "probability = simulate_baccarat_strategy_check_gain(initial_bankroll, target_gain, hands, bet_amount, win_prob)\n",
        "print(f'with {hands} hands',probability)\n",
        "\n",
        "hands = 36\n",
        "probability = simulate_baccarat_strategy_check_gain(initial_bankroll, target_gain, hands, bet_amount, win_prob)\n",
        "print(f'with {hands} hands',probability)\n",
        "\n",
        "hands = 40\n",
        "probability = simulate_baccarat_strategy_check_gain(initial_bankroll, target_gain, hands, bet_amount, win_prob)\n",
        "print(f'with {hands} hands',probability)\n"
      ],
      "metadata": {
        "colab": {
          "base_uri": "https://localhost:8080/"
        },
        "id": "6_JE6lEYKtj7",
        "outputId": "6deed4ce-3696-4741-cab7-b81b84de2a2f"
      },
      "execution_count": null,
      "outputs": [
        {
          "output_type": "stream",
          "name": "stdout",
          "text": [
            "initial bankroll of 800, TP: 400 (50.00%)\n",
            "with 4 hands (1.0, 808.723)\n",
            "with 8 hands (0.90686, 901.0508788567143)\n",
            "with 12 hands (0.85666, 972.8200219456961)\n",
            "with 16 hands (0.83123, 1024.2423877867739)\n",
            "with 20 hands (0.81892, 1063.5263517803937)\n",
            "with 24 hands (0.81274, 1094.4102665058936)\n",
            "with 28 hands (0.81154, 1113.4645242378688)\n",
            "with 32 hands (0.81127, 1130.7678084977874)\n",
            "with 36 hands (0.81314, 1141.4971591607841)\n",
            "with 40 hands (0.81651, 1154.5051499675449)\n"
          ]
        }
      ]
    },
    {
      "cell_type": "code",
      "source": [
        "print(\"\"\"\n",
        "Using this strategy, what is the percentage of us getting 100% profit in 40 hands..\n",
        "\n",
        "initial bankroll of 800, TP: 400 (50.00%)\n",
        "with 4 hands (1.0, 808.723)\n",
        "with 8 hands (0.90686, 901.0508788567143)\n",
        "with 12 hands (0.85666, 972.8200219456961)\n",
        "with 16 hands (0.83123, 1024.2423877867739)\n",
        "with 20 hands (0.81892, 1063.5263517803937)\n",
        "with 24 hands (0.81274, 1094.4102665058936)\n",
        "with 28 hands (0.81154, 1113.4645242378688)\n",
        "with 32 hands (0.81127, 1130.7678084977874)\n",
        "with 36 hands (0.81314, 1141.4971591607841)\n",
        "with 40 hands (0.81651, 1154.5051499675449)\n",
        "\n",
        "From this data, it looks like its best to stop at 1200 as it will take 12 more hands to get the next 1300\n",
        "\"\"\")\n"
      ],
      "metadata": {
        "id": "K1f_lhgpK7FS"
      },
      "execution_count": null,
      "outputs": []
    },
    {
      "cell_type": "markdown",
      "source": [
        "# Anti Martingale: Level 3\n",
        "\n",
        "When we reset our bet to 100 after 2 wins, we have 75% chance of leaving with money"
      ],
      "metadata": {
        "id": "KS5CF5ASZujY"
      }
    },
    {
      "cell_type": "code",
      "source": [
        "# Parameters\n",
        "initial_bankroll = 800\n",
        "target_gain = 100\n",
        "hands = 4\n",
        "bet_amount = 100\n",
        "win_prob = 0.5068\n",
        "number_of_bets = 3\n",
        "\n",
        "# Run the simulation\n",
        "probability = simulate_baccarat_strategy_check_gain(initial_bankroll, target_gain, hands, bet_amount, win_prob, number_of_bets=number_of_bets)\n",
        "print(f'initial bankroll of {initial_bankroll}, TP: {target_gain} ({target_gain/initial_bankroll * 100:.2f}%)')\n",
        "print(f'with {hands} hands',probability)\n",
        "\n",
        "hands = 8\n",
        "probability = simulate_baccarat_strategy_check_gain(initial_bankroll, target_gain, hands, bet_amount, win_prob,number_of_bets=3)\n",
        "print(f'with {hands} hands',probability)\n",
        "\n",
        "hands = 12\n",
        "probability = simulate_baccarat_strategy_check_gain(initial_bankroll, target_gain, hands, bet_amount, win_prob,number_of_bets=3)\n",
        "print(f'with {hands} hands',probability)\n",
        "\n",
        "hands = 16\n",
        "probability = simulate_baccarat_strategy_check_gain(initial_bankroll, target_gain, hands, bet_amount, win_prob, number_of_bets=3)\n",
        "print(f'with {hands} hands',probability)\n",
        "\n",
        "hands = 20\n",
        "probability = simulate_baccarat_strategy_check_gain(initial_bankroll, target_gain, hands, bet_amount, win_prob)\n",
        "print(f'with {hands} hands',probability)\n",
        "\n",
        "hands = 24\n",
        "probability = simulate_baccarat_strategy_check_gain(initial_bankroll, target_gain, hands, bet_amount, win_prob)\n",
        "print(f'with {hands} hands',probability)\n",
        "\n",
        "hands = 28\n",
        "probability = simulate_baccarat_strategy_check_gain(initial_bankroll, target_gain, hands, bet_amount, win_prob)\n",
        "print(f'with {hands} hands',probability)\n",
        "\n",
        "hands = 32\n",
        "probability = simulate_baccarat_strategy_check_gain(initial_bankroll, target_gain, hands, bet_amount, win_prob)\n",
        "print(f'with {hands} hands',probability)\n",
        "\n",
        "hands = 36\n",
        "probability = simulate_baccarat_strategy_check_gain(initial_bankroll, target_gain, hands, bet_amount, win_prob)\n",
        "print(f'with {hands} hands',probability)\n",
        "\n",
        "hands = 40\n",
        "probability = simulate_baccarat_strategy_check_gain(initial_bankroll, target_gain, hands, bet_amount, win_prob)\n",
        "print(f'with {hands} hands',probability)\n"
      ],
      "metadata": {
        "colab": {
          "base_uri": "https://localhost:8080/"
        },
        "id": "iUY_LzdhffKK",
        "outputId": "46e2d7c0-791f-42ba-af32-1906dee7e7aa"
      },
      "execution_count": null,
      "outputs": [
        {
          "output_type": "stream",
          "name": "stdout",
          "text": [
            "initial bankroll of 800, TP: 100 (12.50%)\n",
            "with 4 hands (1.0, 805.822)\n",
            "with 8 hands (0.81526, 994.4766086892525)\n",
            "with 12 hands (0.89329, 957.8445969394038)\n",
            "with 16 hands (0.93797, 919.7831487147777)\n",
            "with 20 hands (0.9243, 900.7573298712539)\n",
            "with 24 hands (0.92683, 905.155206456416)\n",
            "with 28 hands (0.92922, 907.2211101784292)\n",
            "with 32 hands (0.93155, 910.0327411303741)\n",
            "with 36 hands (0.93603, 911.5872354518551)\n",
            "with 40 hands (0.93741, 912.8033624561291)\n"
          ]
        }
      ]
    },
    {
      "cell_type": "code",
      "source": [
        "print(\"\"\"\n",
        "Using this strategy, what is the percentage of us getting 100% profit in 40 hands..\n",
        "\n",
        "initial bankroll of 800, TP: 100 (12.50%)\n",
        "with 4 hands (1.0, 805.822)\n",
        "with 8 hands (0.81526, 994.4766086892525)\n",
        "with 12 hands (0.89329, 957.8445969394038)\n",
        "with 16 hands (0.93797, 919.7831487147777)\n",
        "with 20 hands (0.9243, 900.7573298712539)\n",
        "with 24 hands (0.92683, 905.155206456416)\n",
        "with 28 hands (0.92922, 907.2211101784292)\n",
        "with 32 hands (0.93155, 910.0327411303741)\n",
        "with 36 hands (0.93603, 911.5872354518551)\n",
        "with 40 hands (0.93741, 912.8033624561291)\n",
        "\n",
        "\n",
        "From this data, we have a super high chance of making $100 with Level 3 bet..\n",
        "\"\"\")\n"
      ],
      "metadata": {
        "id": "JKgJthrFMhDp"
      },
      "execution_count": null,
      "outputs": []
    },
    {
      "cell_type": "code",
      "source": [
        "# Parameters\n",
        "initial_bankroll = 800\n",
        "target_gain = 400\n",
        "hands = 4\n",
        "bet_amount = 100\n",
        "win_prob = 0.5068\n",
        "number_of_bets = 3\n",
        "\n",
        "# Run the simulation\n",
        "probability = simulate_baccarat_strategy_check_gain(initial_bankroll, target_gain, hands, bet_amount, win_prob, number_of_bets=number_of_bets)\n",
        "print(f'initial bankroll of {initial_bankroll}, TP: {target_gain} ({target_gain/initial_bankroll * 100:.2f}%)')\n",
        "print(f'with {hands} hands',probability)\n",
        "\n",
        "hands = 8\n",
        "probability = simulate_baccarat_strategy_check_gain(initial_bankroll, target_gain, hands, bet_amount, win_prob,number_of_bets=3)\n",
        "print(f'with {hands} hands',probability)\n",
        "\n",
        "hands = 12\n",
        "probability = simulate_baccarat_strategy_check_gain(initial_bankroll, target_gain, hands, bet_amount, win_prob,number_of_bets=3)\n",
        "print(f'with {hands} hands',probability)\n",
        "\n",
        "hands = 16\n",
        "probability = simulate_baccarat_strategy_check_gain(initial_bankroll, target_gain, hands, bet_amount, win_prob, number_of_bets=3)\n",
        "print(f'with {hands} hands',probability)\n",
        "\n",
        "hands = 20\n",
        "probability = simulate_baccarat_strategy_check_gain(initial_bankroll, target_gain, hands, bet_amount, win_prob)\n",
        "print(f'with {hands} hands',probability)\n",
        "\n",
        "hands = 24\n",
        "probability = simulate_baccarat_strategy_check_gain(initial_bankroll, target_gain, hands, bet_amount, win_prob)\n",
        "print(f'with {hands} hands',probability)\n",
        "\n",
        "hands = 28\n",
        "probability = simulate_baccarat_strategy_check_gain(initial_bankroll, target_gain, hands, bet_amount, win_prob)\n",
        "print(f'with {hands} hands',probability)\n",
        "\n",
        "hands = 32\n",
        "probability = simulate_baccarat_strategy_check_gain(initial_bankroll, target_gain, hands, bet_amount, win_prob)\n",
        "print(f'with {hands} hands',probability)\n",
        "\n",
        "hands = 36\n",
        "probability = simulate_baccarat_strategy_check_gain(initial_bankroll, target_gain, hands, bet_amount, win_prob)\n",
        "print(f'with {hands} hands',probability)\n",
        "\n",
        "hands = 40\n",
        "probability = simulate_baccarat_strategy_check_gain(initial_bankroll, target_gain, hands, bet_amount, win_prob)\n",
        "print(f'with {hands} hands',probability)\n"
      ],
      "metadata": {
        "colab": {
          "base_uri": "https://localhost:8080/"
        },
        "id": "IBCjbISxNC3I",
        "outputId": "c0e392ba-2296-49ea-efd7-cf8b2a5e8cdb"
      },
      "execution_count": null,
      "outputs": [
        {
          "output_type": "stream",
          "name": "stdout",
          "text": [
            "initial bankroll of 800, TP: 400 (50.00%)\n",
            "with 4 hands (1.0, 813.209)\n",
            "with 8 hands (0.67112, 1222.3715579926093)\n",
            "with 12 hands (0.81211, 1109.785620174607)\n",
            "with 16 hands (0.89193, 1022.3044409314632)\n",
            "with 20 hands (0.82204, 1063.2876745657145)\n",
            "with 24 hands (0.81457, 1091.5845169844213)\n",
            "with 28 hands (0.81345, 1115.2916589833426)\n",
            "with 32 hands (0.81161, 1130.441961040401)\n",
            "with 36 hands (0.81487, 1142.0336986267748)\n",
            "with 40 hands (0.81703, 1152.9601116238082)\n"
          ]
        }
      ]
    },
    {
      "cell_type": "code",
      "source": [
        "# Parameters\n",
        "initial_bankroll = 800\n",
        "target_gain = 800\n",
        "hands = 4\n",
        "bet_amount = 100\n",
        "win_prob = 0.5068\n",
        "number_of_bets = 3\n",
        "\n",
        "# Run the simulation\n",
        "probability = simulate_baccarat_strategy_check_gain(initial_bankroll, target_gain, hands, bet_amount, win_prob, number_of_bets=number_of_bets)\n",
        "print(f'initial bankroll of {initial_bankroll}, TP: {target_gain} ({target_gain/initial_bankroll * 100:.2f}%)')\n",
        "print(f'with {hands} hands',probability)\n",
        "\n",
        "hands = 8\n",
        "probability = simulate_baccarat_strategy_check_gain(initial_bankroll, target_gain, hands, bet_amount, win_prob,number_of_bets=3)\n",
        "print(f'with {hands} hands',probability)\n",
        "\n",
        "hands = 12\n",
        "probability = simulate_baccarat_strategy_check_gain(initial_bankroll, target_gain, hands, bet_amount, win_prob,number_of_bets=3)\n",
        "print(f'with {hands} hands',probability)\n",
        "\n",
        "hands = 16\n",
        "probability = simulate_baccarat_strategy_check_gain(initial_bankroll, target_gain, hands, bet_amount, win_prob, number_of_bets=3)\n",
        "print(f'with {hands} hands',probability)\n",
        "\n",
        "hands = 20\n",
        "probability = simulate_baccarat_strategy_check_gain(initial_bankroll, target_gain, hands, bet_amount, win_prob)\n",
        "print(f'with {hands} hands',probability)\n",
        "\n",
        "hands = 24\n",
        "probability = simulate_baccarat_strategy_check_gain(initial_bankroll, target_gain, hands, bet_amount, win_prob)\n",
        "print(f'with {hands} hands',probability)\n",
        "\n",
        "hands = 28\n",
        "probability = simulate_baccarat_strategy_check_gain(initial_bankroll, target_gain, hands, bet_amount, win_prob)\n",
        "print(f'with {hands} hands',probability)\n",
        "\n",
        "hands = 32\n",
        "probability = simulate_baccarat_strategy_check_gain(initial_bankroll, target_gain, hands, bet_amount, win_prob)\n",
        "print(f'with {hands} hands',probability)\n",
        "\n",
        "hands = 36\n",
        "probability = simulate_baccarat_strategy_check_gain(initial_bankroll, target_gain, hands, bet_amount, win_prob)\n",
        "print(f'with {hands} hands',probability)\n",
        "\n",
        "hands = 40\n",
        "probability = simulate_baccarat_strategy_check_gain(initial_bankroll, target_gain, hands, bet_amount, win_prob)\n",
        "print(f'with {hands} hands',probability)\n"
      ],
      "metadata": {
        "colab": {
          "base_uri": "https://localhost:8080/"
        },
        "id": "lkDvzy8QNcd9",
        "outputId": "6a7b050d-8167-455a-f050-3e702fcfbfe0"
      },
      "execution_count": null,
      "outputs": [
        {
          "output_type": "stream",
          "name": "stdout",
          "text": [
            "initial bankroll of 800, TP: 800 (100.00%)\n",
            "with 4 hands (1.0, 814.497)\n",
            "with 8 hands (0.67306, 1220.5063441595103)\n",
            "with 12 hands (0.81167, 1108.7929823696822)\n",
            "with 16 hands (0.89107, 1023.939757819251)\n",
            "with 20 hands (0.79562, 1115.9309720720946)\n",
            "with 24 hands (0.77926, 1169.6263121422887)\n",
            "with 28 hands (0.76457, 1217.4163255163032)\n",
            "with 32 hands (0.75647, 1256.3234497071926)\n",
            "with 36 hands (0.75189, 1294.144090225964)\n",
            "with 40 hands (0.75175, 1320.321915530429)\n"
          ]
        }
      ]
    },
    {
      "cell_type": "markdown",
      "source": [
        "# Anti Martingale: Level 4\n",
        "\n",
        "6.25% chance.."
      ],
      "metadata": {
        "id": "rqOZ6GKOrQ1W"
      }
    },
    {
      "cell_type": "code",
      "source": [
        "# Parameters\n",
        "initial_bankroll = 1600\n",
        "target_gain = 1600\n",
        "hands = 4\n",
        "bet_amount = 100\n",
        "win_prob = 0.5068\n",
        "number_of_bets = 4\n",
        "\n",
        "# Run the simulation\n",
        "probability = simulate_baccarat_strategy_check_gain(initial_bankroll, target_gain, hands, bet_amount, win_prob, number_of_bets=number_of_bets)\n",
        "print(f'initial bankroll of {initial_bankroll}, TP: {target_gain} ({target_gain/initial_bankroll * 100:.2f}%)')\n",
        "print(f'with {hands} hands',probability)\n",
        "\n",
        "hands = 8\n",
        "probability = simulate_baccarat_strategy_check_gain(initial_bankroll, target_gain, hands, bet_amount, win_prob, number_of_bets=number_of_bets)\n",
        "print(f'with {hands}hands',probability)\n",
        "\n",
        "hands = 12\n",
        "probability = simulate_baccarat_strategy_check_gain(initial_bankroll, target_gain, hands, bet_amount, win_prob, number_of_bets=number_of_bets)\n",
        "print(f'with {hands}hands',probability)\n",
        "\n",
        "hands = 16\n",
        "probability = simulate_baccarat_strategy_check_gain(initial_bankroll, target_gain, hands, bet_amount, win_prob, number_of_bets=number_of_bets)\n",
        "print(f'with {hands}hands',probability)\n",
        "\n",
        "hands = 20\n",
        "probability = simulate_baccarat_strategy_check_gain(initial_bankroll, target_gain, hands, bet_amount, win_prob, number_of_bets=number_of_bets)\n",
        "print(f'with {hands} hands',probability)\n",
        "\n",
        "hands = 24\n",
        "probability = simulate_baccarat_strategy_check_gain(initial_bankroll, target_gain, hands, bet_amount, win_prob, number_of_bets=number_of_bets)\n",
        "print(f'with {hands} hands',probability)\n",
        "\n",
        "hands = 28\n",
        "probability = simulate_baccarat_strategy_check_gain(initial_bankroll, target_gain, hands, bet_amount, win_prob, number_of_bets=number_of_bets)\n",
        "print(f'with {hands} hands',probability)\n",
        "\n",
        "hands = 32\n",
        "probability = simulate_baccarat_strategy_check_gain(initial_bankroll, target_gain, hands, bet_amount, win_prob, number_of_bets=number_of_bets)\n",
        "print(f'with {hands} hands',probability)\n",
        "\n",
        "hands = 36\n",
        "probability = simulate_baccarat_strategy_check_gain(initial_bankroll, target_gain, hands, bet_amount, win_prob, number_of_bets=number_of_bets)\n",
        "print(f'with {hands} hands',probability)\n",
        "\n",
        "hands = 40\n",
        "probability = simulate_baccarat_strategy_check_gain(initial_bankroll, target_gain, hands, bet_amount, win_prob, number_of_bets=number_of_bets)\n",
        "print(f'with {hands} hands',probability)\n"
      ],
      "metadata": {
        "colab": {
          "base_uri": "https://localhost:8080/"
        },
        "id": "hbFOuDEJocV2",
        "outputId": "f6bb86b3-dc71-4b66-ce75-1f4f5b80249e"
      },
      "execution_count": null,
      "outputs": [
        {
          "output_type": "stream",
          "name": "stdout",
          "text": [
            "initial bankroll of 1600, TP: 1600 (100.00%)\n",
            "with 4 hands (1.0, 1620.21)\n",
            "with 8hands (1.0, 1632.107)\n",
            "with 12hands (1.0, 1643.433)\n",
            "with 16hands (0.66421, 2493.3244004155313)\n",
            "with 20 hands (0.74567, 2369.65547762415)\n",
            "with 24 hands (0.8055, 2263.181874612042)\n",
            "with 28 hands (0.85235, 2169.0584853639934)\n",
            "with 32 hands (0.88449, 2097.8315187283065)\n",
            "with 36 hands (0.91419, 2020.666382261893)\n",
            "with 40 hands (0.93404, 1965.9275834011391)\n"
          ]
        }
      ]
    },
    {
      "cell_type": "code",
      "source": [
        "# Parameters\n",
        "initial_bankroll = 1600\n",
        "target_gain = 800\n",
        "hands = 4\n",
        "bet_amount = 100\n",
        "win_prob = 0.5068\n",
        "number_of_bets = 4\n",
        "\n",
        "# Run the simulation\n",
        "probability = simulate_baccarat_strategy_check_gain(initial_bankroll, target_gain, hands, bet_amount, win_prob, number_of_bets=number_of_bets)\n",
        "print(f'initial bankroll of {initial_bankroll}, TP: {target_gain} ({target_gain/initial_bankroll * 100:.2f}%)')\n",
        "print(f'with {hands} hands',probability)\n",
        "\n",
        "hands = 8\n",
        "probability = simulate_baccarat_strategy_check_gain(initial_bankroll, target_gain, hands, bet_amount, win_prob, number_of_bets=number_of_bets)\n",
        "print(f'with {hands}hands',probability)\n",
        "\n",
        "hands = 12\n",
        "probability = simulate_baccarat_strategy_check_gain(initial_bankroll, target_gain, hands, bet_amount, win_prob, number_of_bets=number_of_bets)\n",
        "print(f'with {hands}hands',probability)\n",
        "\n",
        "hands = 16\n",
        "probability = simulate_baccarat_strategy_check_gain(initial_bankroll, target_gain, hands, bet_amount, win_prob, number_of_bets=number_of_bets)\n",
        "print(f'with {hands}hands',probability)\n",
        "\n",
        "hands = 20\n",
        "probability = simulate_baccarat_strategy_check_gain(initial_bankroll, target_gain, hands, bet_amount, win_prob, number_of_bets=number_of_bets)\n",
        "print(f'with {hands} hands',probability)\n",
        "\n",
        "hands = 24\n",
        "probability = simulate_baccarat_strategy_check_gain(initial_bankroll, target_gain, hands, bet_amount, win_prob, number_of_bets=number_of_bets)\n",
        "print(f'with {hands} hands',probability)\n",
        "\n",
        "hands = 28\n",
        "probability = simulate_baccarat_strategy_check_gain(initial_bankroll, target_gain, hands, bet_amount, win_prob, number_of_bets=number_of_bets)\n",
        "print(f'with {hands} hands',probability)\n",
        "\n",
        "hands = 32\n",
        "probability = simulate_baccarat_strategy_check_gain(initial_bankroll, target_gain, hands, bet_amount, win_prob, number_of_bets=number_of_bets)\n",
        "print(f'with {hands} hands',probability)\n",
        "\n",
        "hands = 36\n",
        "probability = simulate_baccarat_strategy_check_gain(initial_bankroll, target_gain, hands, bet_amount, win_prob, number_of_bets=number_of_bets)\n",
        "print(f'with {hands} hands',probability)\n",
        "\n",
        "hands = 40\n",
        "probability = simulate_baccarat_strategy_check_gain(initial_bankroll, target_gain, hands, bet_amount, win_prob, number_of_bets=number_of_bets)\n",
        "print(f'with {hands} hands',probability)\n"
      ],
      "metadata": {
        "colab": {
          "base_uri": "https://localhost:8080/"
        },
        "id": "G9mOB5J3rdg2",
        "outputId": "6d0c4157-002d-4c3d-e89c-3ee3c599eb2a"
      },
      "execution_count": null,
      "outputs": [
        {
          "output_type": "stream",
          "name": "stdout",
          "text": [
            "initial bankroll of 1600, TP: 800 (50.00%)\n",
            "with 4 hands (1.0, 1620.798)\n",
            "with 8hands (1.0, 1639.021)\n",
            "with 12hands (1.0, 1648.292)\n",
            "with 16hands (0.66263, 2490.6524002837177)\n",
            "with 20 hands (0.74387, 2370.142632449218)\n",
            "with 24 hands (0.80524, 2263.3016243604393)\n",
            "with 28 hands (0.85173, 2166.558651215761)\n",
            "with 32 hands (0.88816, 2085.5183750675556)\n",
            "with 36 hands (0.91421, 2021.4075540630708)\n",
            "with 40 hands (0.93421, 1965.580543989039)\n"
          ]
        }
      ]
    },
    {
      "cell_type": "code",
      "source": [],
      "metadata": {
        "id": "A0fHA24COwpP"
      },
      "execution_count": null,
      "outputs": []
    }
  ]
}